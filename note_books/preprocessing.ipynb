{
 "metadata": {
  "language_info": {
   "codemirror_mode": {
    "name": "ipython",
    "version": 3
   },
   "file_extension": ".py",
   "mimetype": "text/x-python",
   "name": "python",
   "nbconvert_exporter": "python",
   "pygments_lexer": "ipython3",
   "version": "3.9.5"
  },
  "orig_nbformat": 2,
  "kernelspec": {
   "name": "python395jvsc74a57bd08da3c9b99527ca35eba42b7eabae80f173aece1b8bbc5e117d6490913712d5b1",
   "display_name": "Python 3.9.5 64-bit ('TFG': virtualenvwrapper)"
  }
 },
 "nbformat": 4,
 "nbformat_minor": 2,
 "cells": [
  {
   "source": [
    "import sys\n",
    "from os.path import join\n",
    "from pathlib import Path\n",
    "parent_path = str(Path.cwd().parents[0])\n",
    "\n",
    "if parent_path not in sys.path:\n",
    "    sys.path.append(parent_path)\n",
    "\n",
    "from src import manual_preprocessing as mp\n",
    "import seaborn as sns\n",
    "import pandas as pd\n",
    "import numpy as np\n",
    "import matplotlib.pyplot as plt\n",
    "dataset = pd.read_csv(join(mp.data_path, 'data.csv'))\n"
   ],
   "cell_type": "code",
   "metadata": {},
   "execution_count": 3,
   "outputs": []
  },
  {
   "source": [
    "# Analisis exploratorio de los datos\n",
    "En esta sección vamos a abordar la primera fase del proceso del analisis de datos. Vamos a estudiar a fondo el dataset que se nos ha entregado y comenzar a conocer el problema y hacer un procesamiento manual de los datos.\n",
    "\n",
    "\n"
   ],
   "cell_type": "markdown",
   "metadata": {}
  },
  {
   "cell_type": "code",
   "execution_count": 16,
   "metadata": {},
   "outputs": [
    {
     "output_type": "stream",
     "name": "stdout",
     "text": [
      "<class 'pandas.core.frame.DataFrame'>\nInt64Index: 1672 entries, 0 to 1671\nData columns (total 200 columns):\n #    Column                   Dtype  \n---   ------                   -----  \n 0    Curso                    float64\n 1    Nota                     float64\n 2    Beca                     object \n 3    Género                   object \n 4    Edad                     float64\n 5    Trabajas                 object \n 6    TrabAnt                  object \n 7    EmpFam                   object \n 8    Emprend                  object \n 9    EmpFut                   object \n 10   SE1                      float64\n 11   SE2                      float64\n 12   SE3                      float64\n 13   SE4                      float64\n 14   SE5                      float64\n 15   SE6                      float64\n 16   SEMedia                  float64\n 17   AC1                      float64\n 18   AC2                      float64\n 19   AC3                      float64\n 20   AC4                      float64\n 21   AE5                      float64\n 22   AcMedia                  float64\n 23   NS1                      float64\n 24   NS2                      float64\n 25   NS3                      float64\n 26   NSMedia                  float64\n 27   CF1                      float64\n 28   QK2                      float64\n 29   QK3                      float64\n 30   QK4                      float64\n 31   QK5                      float64\n 32   QK6                      float64\n 33   QK7                      float64\n 34   QK8                      float64\n 35   QK9                      float64\n 36   ConFin (1_7)             float64\n 37   BA1                      object \n 38   QF1                      float64\n 39   QF2                      float64\n 40   Budget                   float64\n 41   BA4                      object \n 42   BA3.a                    object \n 43   BA3.b                    object \n 44   BA3.c                    object \n 45   BA3.d                    object \n 46   BA3.e                    object \n 47   BA3.f                    object \n 48   BA3.g                    object \n 49   Active Saving (QF3)      float64\n 50   BA10.a                   object \n 51   Purchase (QF10_1)        float64\n 52   BA10.b                   object \n 53   QF10_b                   float64\n 54   BA10.c                   object \n 55   QF10_c                   float64\n 56   BA10.d                   object \n 57   Payment (QF10_4)         float64\n 58   BA10.e                   float64\n 59   BA10.f                   object \n 60   Keeping (QF10_6)         float64\n 61   BA10.g                   object \n 62   Goal (QF10_7)            float64\n 63   BA10.h                   object \n 64   QF10_h                   float64\n 65   FinAttit                 float64\n 66   BA10.i                   float64\n 67   BA10.j                   float64\n 68   BA10.k                   float64\n 69   BA10.l                   float64\n 70   BA11                     object \n 71   BA12.a                   object \n 72   BA12.b                   object \n 73   BA12.c                   object \n 74   BA12.d                   object \n 75   BA12.e                   object \n 76   BA12.f                   object \n 77   BA12.g                   object \n 78   BA12.k                   object \n 79   BA12.l                   object \n 80   BA12.m                   object \n 81   BA12.o                   object \n 82   BA12.p                   object \n 83   BA12.q                   object \n 84   BA12.r                   object \n 85   Borrow (QF12)            float64\n 86   FinBehSinBorrow (1-6)    int64  \n 87   FinBeh con borrow (1-7)  int64  \n 88   FinLit total (1-19)      float64\n 89   BA13                     object \n 90   IF6a.Conoces             int64  \n 91   IF1.6aTienes             int64  \n 92   IF1.6aContrata           int64  \n 93   IF1.6bConoces            int64  \n 94   IF1.6bTienes             int64  \n 95   IF1.6bContrata           int64  \n 96   IF1.6cConoces            int64  \n 97   IF1.6cTienes             int64  \n 98   IF1.6cContrata           int64  \n 99   IF1.6dConoces            object \n 100  IF1.6dContrata           int64  \n 101  IF1.6eConoces            int64  \n 102  IF1.6eTienes             int64  \n 103  IF1.6eContrata           int64  \n 104  IF1.6fConoces            int64  \n 105  IF1.6fTienes             object \n 106  IF1.6fContrata           int64  \n 107  IF1.6gConoces            int64  \n 108  IF1.6gTienes             int64  \n 109  IF1.6gContrata           int64  \n 110  IF1.6hConoces            int64  \n 111  IF1.6hTienes             int64  \n 112  IF1.6hContrata           int64  \n 113  IF1.6iConoce             int64  \n 114  IF1.6iTiene              int64  \n 115  IF1.6iContrata           int64  \n 116  IF1.6jConoce             int64  \n 117  IF1.6jTiene              int64  \n 118  IF1.6jContrata           int64  \n 119  IF1.6kConoce             int64  \n 120  IF1.6kTiene              int64  \n 121  IF1.6kContrata           int64  \n 122  IF1.6lConoce             int64  \n 123  IF1.6lTiene              int64  \n 124  IF1.6lContrata           int64  \n 125  IF1.6mConoces            int64  \n 126  IF1.6mTienes             int64  \n 127  IF1.6mContrata           int64  \n 128  IF1.6nConoce             int64  \n 129  IF1.6nTiene              int64  \n 130  IF1.6nContrata           int64  \n 131  FI_Payment (Qprod1_b)    int64  \n 132  FI_Saving                int64  \n 133  FI_Credit                int64  \n 134  SumaConoces              int64  \n 135  FI_Aware                 int64  \n 136  SumaContrata             int64  \n 137  FI_Pchoice               int64  \n 138  FI_Relying               int64  \n 139  Finclusion (1-7)         int64  \n 140  CEF1                     float64\n 141  CEF2                     float64\n 142  CEF3                     float64\n 143  CEF4                     float64\n 144  CEF5                     float64\n 145  CEF6                     float64\n 146  CEF7                     float64\n 147  CEF8                     float64\n 148  CEF9                     float64\n 149  CEF10                    float64\n 150  CEF11                    float64\n 151  CEF12                    float64\n 152  CEF13                    float64\n 153  CEF14                    float64\n 154  CEF15                    float64\n 155  CEF16                    float64\n 156  CEF17                    float64\n 157  CEF18                    float64\n 158  CEF19                    float64\n 159  CEF20                    float64\n 160  HCE1                     float64\n 161  HCE2                     float64\n 162  HCE3                     float64\n 163  HCE4                     float64\n 164  HCE5                     float64\n 165  HCE6                     float64\n 166  HCE7                     float64\n 167  HCE8                     float64\n 168  HCE9                     float64\n 169  HCE10                    float64\n 170  HCE11                    float64\n 171  HCE12                    float64\n 172  HCE13                    float64\n 173  HCE14                    float64\n 174  HCE15                    float64\n 175  HCE16                    float64\n 176  HCE17                    float64\n 177  HCE18                    float64\n 178  HCE19                    float64\n 179  HCE20                    float64\n 180  HCE21                    float64\n 181  AE1                      float64\n 182  AE2                      float64\n 183  AE3                      float64\n 184  AE4                      float64\n 185  AE52                     float64\n 186  AE6                      float64\n 187  AE7                      float64\n 188  AE8                      float64\n 189  AE9                      float64\n 190  AE10                     float64\n 191  AE11                     float64\n 192  AE12                     float64\n 193  BF1Adaptada              int64  \n 194  BF2Adaptada              int64  \n 195  BF3Adaptada              int64  \n 196  BF4Adaptada              int64  \n 197  SumaBFAdapt (1-4)        int64  \n 198  GFK (1-4)2               int64  \n 199  TotalFKAdapt (1-8)       int64  \ndtypes: float64(102), int64(57), object(41)\nmemory usage: 2.6+ MB\n"
     ]
    }
   ],
   "source": [
    "dataset.info(verbose=True)\n"
   ]
  },
  {
   "source": [
    "### Comprobacion de columnas con mismos datos\n",
    "\n",
    "Tras una exhauctiva lectura de la explicacion de cada variable, me  he dado cuenta que hay un grupo de columnas que son problematicas, estas columnas son las BFx y las BFxAdaptada. \n",
    "\n",
    "En las columnas BFx tenemos unicamente datos que se recogieron en el año `19_20` y en las columnas BFxAdaptada tenemos datos que se recogieron en `19_20` y en `18_19`. Esto es un problema ya que puede ser que haya datos que no se corresponden entre las dos columnas. Para comprobarlo he creado la funcion de abajo a la que se le dan todos los datos y comprueba si dos columnas son iguales."
   ],
   "cell_type": "markdown",
   "metadata": {}
  },
  {
   "cell_type": "code",
   "execution_count": 5,
   "metadata": {},
   "outputs": [
    {
     "output_type": "stream",
     "name": "stdout",
     "text": [
      "Las columnas son iguales, shape actual = (1672, 246)\n"
     ]
    }
   ],
   "source": [
    "# Lectura de datos\n",
    "list_adaptada = ['BF1Adaptada', 'BF2Adaptada', 'BF3Adaptada', 'BF4Adaptada']\n",
    "list_no_adaptada =  ['BF1', 'BF2', 'BF3', 'BF4']\n",
    "res_data = mp.compare_columns(dataset, list_adaptada, list_no_adaptada, 'Año', '19_20', int)\n",
    "\n",
    "if res_data is not None:\n",
    "    print(f\"Las columnas son iguales, shape actual = {res_data.shape}\")\n",
    "    dataset = res_data\n",
    "else:\n",
    "    print(\"Las columnas son distintas\")"
   ]
  },
  {
   "source": [
    "### Eleccion de columnas redundantes.\n",
    "\n",
    "En esta sección, vamos a analizar una por una que columnas son redundantes y proceder a la eliminación de las mismas, ya que aunque no tenemos un dataset grande, no deberiamos tener columnas conteniendo la misma informacion.\n",
    "\n",
    "Vamos a comenzar por borrar algunas de las columnas `CF2`, `CF4`, `CF5` ya que son respuestas libres. Intentar categorizar este tipo de columnas implicaria un gran coste, debido al número de posibles respuestas de cada uno de los encuestados. Ademas, ya tenemos en las columas QFx valores 0,1 si las preguntas anteriores estan contestadas bien. Las columnas que se van a dejar son: \n",
    "\n",
    "- `CF1`: Esta se deja ya que es una pregunta en escala Likert \n",
    "- `CF3`: Esta es una pregunta con opciones. La columna `QF3` asociada tambien se va a dejar, ya que indica si la respuesta es correcta o no. Esta columna tiene interés.\n",
    "- `CF6`: Igual que `CF3`\n",
    "\n",
    "Las variables `BFx` representan la respuesta a una pregunta de la encuesta. Tenemos dos de esas preguntas que son de verdadero o falso, asi que esas columnas van a ser borradas. El resto, son preguntas con opciones, y estas columnas pueden ser interesantes. Las columnas que se van a borrar son:\n",
    "\n",
    "- `Los dividendos son parte de lo que una empresa paga al banco para devolver un préstamo.`\n",
    "- `Cuando una empresa obtiene capital de un inversor, le está dando al inversor parte de la propiedad de la compañía.`\n",
    "\n",
    "Las columnas `BA2` y `QF2` son redundantes. `BA2` contiene la respuesta de una pregunta de tipo SI/no y `QF2` tiene 1 o 0 dependendiendo de si se contesto bien o mal.\n",
    "\n",
    "También voy a renombrar un par de columnas, ya que tienen un nombre muy largo (la pregunta entera que se hizo en la encuesta). Esto no va a influir en el algoritmo, pero me es más cómodo trabajar con columnas con nombres pequeños.\n"
   ],
   "cell_type": "markdown",
   "metadata": {}
  },
  {
   "cell_type": "code",
   "execution_count": 6,
   "metadata": {},
   "outputs": [],
   "source": [
    "dataset.drop(columns=mp.columns_to_delete, inplace=True)\n",
    "dataset.rename(mapper=mp.rename_dict, inplace=True)\n",
    "# There are values like spaces that we don't want, as they introduce some noise into the model\n",
    "dataset.replace(to_replace=' ', value=np.nan, inplace=True)\n"
   ]
  },
  {
   "source": [
    "Probando los valores únicos en las columnas, me di cuenta que la columna de género tiene géneros como `sí` y `no`. Estos valores no son válidos y antes de introducirlos así al algoritmo, vamos a considerar estos valores como valores perdidos, ya que no son validos. Lo hacemos justo antes de buscar los datos perdidos, si vemos que tras esta transformacion la columna contiene una gran cantidad de valores perdidos, se eliminará."
   ],
   "cell_type": "markdown",
   "metadata": {}
  },
  {
   "cell_type": "code",
   "execution_count": 7,
   "metadata": {},
   "outputs": [
    {
     "output_type": "stream",
     "name": "stdout",
     "text": [
      "['Hombre' 'Mujer' nan 'No' 'Sí']\n"
     ]
    }
   ],
   "source": [
    "print(dataset['Género'].unique())\n",
    "dataset['Género'].replace(to_replace='Sí', value=np.nan, inplace=True)\n",
    "dataset['Género'].replace(to_replace='No', value=np.nan, inplace=True)"
   ]
  },
  {
   "source": [
    "### Eliminación de columnas con gran cantidad de valores perdidos.\n",
    "\n",
    "Revisando las columnas, he visto que hay varias columnas que solo contienen datos de un solo año. Esto es un problema, ya que dichas estas columnas van a tener una gran cantidad de valores perdidos. Imputar valores en dichas columnas no es una opción, ya que podemos introducir una gran cantidad de ruido en el dataset. Lo mejor es eliminarlas. \n",
    "A continuación se muestra cuales son dichas columnas."
   ],
   "cell_type": "markdown",
   "metadata": {}
  },
  {
   "cell_type": "code",
   "execution_count": 8,
   "metadata": {
    "tags": []
   },
   "outputs": [
    {
     "output_type": "stream",
     "name": "stdout",
     "text": [
      "Columnas con más del 50% de valores perdidos:\n'Index(['Si el efectivo al final de un determinado periodo (día, mes, año,...) es mayor que al comienzo del periodo, significa que la empresa ha generado un beneficio positivo.',\n       'Una empresa acaba de adquirir un bien de equipo por el que ha pagado 200 euros. El bien será utilizado durante 5 años. El beneficio del ejercicio actual se verá reducido en:',\n       'El balance de situación es:',\n       '¿Cuál de las siguientes opciones describe mejor el ratio de rentabilidad sobre los activos (ROA)? ',\n       'No tener deuda es siempre una situación deseable para una empresa.',\n       'Cuando las ventas aumentan, significa que la empresa goza de buena salud.',\n       'La rentabilidad sobre activos se conoce como ROA, y la rentabilidad sobre los fondos propios invertidos por los accionistas en la empresa se conoce como ROE. Por regla general, el nivel de deuda es más sostenible si:',\n       'TotalEF (1-8)', 'EFB (1-3)', 'SumaEFA1_4', 'SumaEFA (1-5)', 'EFA5',\n       'EFA4', 'TotalEF1_4 (1-7)', 'EFA3', 'EFA2', 'EFA1', 'TotalFK (1-8)',\n       'GFK (1-4)', 'SumaBF (1-4)', 'IF1.6dTienes'],\n      dtype='object')'\n"
     ]
    }
   ],
   "source": [
    "lost_values = mp.get_missing_values(dataset, 0.5)\n",
    "print(f\"Columnas con más del 50% de valores perdidos:\\n'{lost_values}'\")\n",
    "\n",
    "dataset.drop(columns=lost_values, inplace=True)"
   ]
  },
  {
   "source": [
    "### Correlacion de columnas\n",
    "Vamos a calcular la correlacion que hay entre las columnas del dataset. Esto nos permitirá eliminar aquellas columnas que tengan una correlación alta.\n",
    "A continuación, se muestran las 20 columnas con una correlación más alta.\n",
    "\n",
    "Antes de seguir, vamos a separar las columnas que se van a usar como predictoras. "
   ],
   "cell_type": "markdown",
   "metadata": {}
  },
  {
   "cell_type": "code",
   "execution_count": 9,
   "metadata": {},
   "outputs": [
    {
     "output_type": "stream",
     "name": "stdout",
     "text": [
      "FI_Insur                 IF1.6jTiene              1.000000\nFinLit normaliz          FinLit total (1-19)      1.000000\nConFin (1_8)             ConFin (1_7)             0.987110\nFinBeh con borrow (1-7)  FinBehSinBorrow (1-6)    0.948779\nNSMedia                  NS2                      0.918361\nFI_Aware                 SumaConoces              0.892417\nNSMedia                  NS3                      0.891036\nSumaConoces              IF1.6iConoce             0.886519\nFI_Aware                 IF1.6cConoces            0.886250\nSumaConoces              IF1.6lConoce             0.878140\n                         IF1.6kConoce             0.877966\nAcMedia                  AC2                      0.877745\n                         AE5                      0.874652\nIF1.6lConoce             IF1.6kConoce             0.873608\nSEMedia                  SE3                      0.873497\nNSMedia                  NS1                      0.863767\nAcMedia                  AC3                      0.863616\nSumaConoces              IF1.6bConoces            0.862541\n                         IF1.6cConoces            0.860322\nTotalFKAdapt (1-8)       SumaBFAdapt (1-4)        0.854821\ndtype: float64\n"
     ]
    }
   ],
   "source": [
    "# Get the predictors data\n",
    "predictor_data = dataset[mp.predictors_name]\n",
    "dataset.drop(columns=mp.predictors_name, inplace=True)\n",
    "\n",
    "correlation_matrix = dataset.corr().abs()\n",
    "upper = correlation_matrix.where(np.triu(np.ones(correlation_matrix.shape), k=1).astype(bool)).unstack().sort_values(kind=\"quicksort\", ascending=False)\n",
    "print(upper[:20])"
   ]
  },
  {
   "source": [],
   "cell_type": "markdown",
   "metadata": {}
  },
  {
   "source": [
    "Podemos ver que hay dos pares de columnas con una correlacion máxima: \n",
    "- `F1_Insur` y `IF1.6jTiene`: La columna `IF1.6jTiene` contiene informacion sobre si tienen un contrato de seguro y la columna `F1_Insur` va a ser 1 cuando tenga un seguro contratado. Asi que `F1_Insur` va a ser borrada.\n",
    "- `FinLit normaliz` y `FinLit total`: Respecto a estas dos, `FinLit normaliz` contiene la columna `FinLit` normalizada. Se va a borrar `FinLit normaliz`\n",
    "- `ConFin (1_8)` y `ConFin (1_7)` son columnas que contienen la suma de otras columnas, asi que ambas podrían ser eliminadas.\n",
    "También vamos a borrar unas columnas que contienen la suma y la media de ciertas columnas, ya que no proporcionan ninguna información.\n"
   ],
   "cell_type": "markdown",
   "metadata": {}
  },
  {
   "cell_type": "code",
   "execution_count": 10,
   "metadata": {},
   "outputs": [
    {
     "output_type": "stream",
     "name": "stdout",
     "text": [
      "3 features are highly correlated. They will be removed: ['ConFin (1_8)', 'FinLit normaliz', 'FI_Insur']\n"
     ]
    }
   ],
   "source": [
    "corr_cols = mp.get_highly_correlated_columns(dataset, 0.95)\n",
    "dataset.drop(columns=corr_cols, inplace=True)\n"
   ]
  },
  {
   "source": [
    "### Comprobar balance de clases\n",
    "Vamos a comprobar el balance de clases en las columnas que se van a usar como predictores. Necesitamos saber si estamos ante un problema de clasificación desbalanceado o no.\n",
    "Esta comprobación solo la vamos a hacer en las columnas que se van a usar para clasificación, ya que no tiene sentido ver la distribucion de clases para la variable que se usara para regresión."
   ],
   "cell_type": "markdown",
   "metadata": {}
  },
  {
   "cell_type": "code",
   "execution_count": 11,
   "metadata": {},
   "outputs": [
    {
     "output_type": "display_data",
     "data": {
      "text/plain": "Canvas(toolbar=Toolbar(toolitems=[('Home', 'Reset original view', 'home', 'home'), ('Back', 'Back to previous …",
      "application/vnd.jupyter.widget-view+json": {
       "version_major": 2,
       "version_minor": 0,
       "model_id": "451ab279c2b648e48f178a22ad17e0ec"
      }
     },
     "metadata": {}
    }
   ],
   "source": [
    "%matplotlib ipympl\n",
    "fig = mp.print_value_occurrences(predictor_data[mp.classification_predictor])\n"
   ]
  },
  {
   "source": [
    "En la gráfica de arriba, podemos ver que si que tenemos un desbalance de clases respecto a los valores `1.0`, `2.0`, `3.0`  en todas las variables predictoras. \n",
    "Este problema lo podemos afrontar realizando un `subsampling` en aquellas variables dominantes.\n"
   ],
   "cell_type": "markdown",
   "metadata": {}
  }
 ]
}
