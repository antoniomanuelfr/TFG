{
 "metadata": {
  "language_info": {
   "codemirror_mode": {
    "name": "ipython",
    "version": 3
   },
   "file_extension": ".py",
   "mimetype": "text/x-python",
   "name": "python",
   "nbconvert_exporter": "python",
   "pygments_lexer": "ipython3",
   "version": "3.9.1-final"
  },
  "orig_nbformat": 2,
  "kernelspec": {
   "name": "python3",
   "display_name": "Python 3.9.1 64-bit ('TFG')",
   "metadata": {
    "interpreter": {
     "hash": "8da3c9b99527ca35eba42b7eabae80f173aece1b8bbc5e117d6490913712d5b1"
    }
   }
  }
 },
 "nbformat": 4,
 "nbformat_minor": 2,
 "cells": [
  {
   "cell_type": "code",
   "execution_count": 92,
   "metadata": {},
   "outputs": [],
   "source": [
    "import pandas as pd\n",
    "import os\n",
    "from pathlib import Path\n",
    "\n",
    "\n",
    "def read_and_process_data(data_name: str) -> pd.DataFrame: \n",
    "    \"\"\"Reads the dataset from the `data` directory using pandas and applies some transformations to the dataset (like removing useless columns, etc)\n",
    "    Args\n",
    "        data_name(str): Name of the file.\n",
    "    Returns\n",
    "    \"\"\"\n",
    "    d = pd.read_csv(\"../../data/data.csv\")\n",
    "    print(f'Number of rows {d.shape[0]}, number of columns {d.shape[1]}')\n",
    "    \n",
    "    d.drop(columns=['ID', 'SEMedia', 'AcMedia', 'NSMedia', 'IEMedia'], inplace=True)\n",
    "\n",
    "    return d\n"
   ]
  },
  {
   "cell_type": "code",
   "execution_count": 93,
   "metadata": {},
   "outputs": [
    {
     "output_type": "stream",
     "name": "stdout",
     "text": [
      "Number of rows 1672, number of columns 250\n"
     ]
    },
    {
     "output_type": "execute_result",
     "data": {
      "text/plain": [
       "Index(['Año', 'País', 'Curso', 'Nota      ', 'Beca', 'Género', 'Edad',\n",
       "       'Nacimiento', 'Trabajas', 'TrabAnt',\n",
       "       ...\n",
       "       'AE10', 'AE11', 'AE12', 'BF1Adaptada', 'BF2Adaptada', 'BF3Adaptada',\n",
       "       'BF4Adaptada', 'SumaBFAdapt (1-4)', 'GFK (1-4)2', 'TotalFKAdapt (1-8)'],\n",
       "      dtype='object', length=245)"
      ]
     },
     "metadata": {},
     "execution_count": 93
    }
   ],
   "source": [
    "d = read_data(\"data.csv\")\n",
    "d.columns"
   ]
  }
 ]
}